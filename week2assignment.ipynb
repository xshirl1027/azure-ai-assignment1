{
 "cells": [
  {
   "cell_type": "code",
   "execution_count": 1,
   "id": "82afe917-6529-4623-9940-b1ecc6fc5c4b",
   "metadata": {},
   "outputs": [],
   "source": [
    "import re\n",
    "import requests\n",
    "import sys\n",
    "import os\n",
    "from openai import AzureOpenAI\n",
    "import tiktoken\n",
    "from dotenv import load_dotenv\n",
    "load_dotenv()\n",
    "\n",
    "client = AzureOpenAI(\n",
    "  azure_endpoint = \"https://week2openaihw01.openai.azure.com/\", \n",
    "  api_key=\"962d0e6252224826abb497e69878bfb1\",  \n",
    "  api_version=\"2024-02-15-preview\"\n",
    ")\n"
   ]
  },
  {
   "cell_type": "code",
   "execution_count": 2,
   "id": "78686611-4cc0-4ffc-bbe0-14a412aabd8c",
   "metadata": {},
   "outputs": [],
   "source": [
    "model = \"gpt-4\""
   ]
  },
  {
   "cell_type": "code",
   "execution_count": 19,
   "id": "227b505b-a05e-4588-b05f-8c8802303451",
   "metadata": {},
   "outputs": [],
   "source": [
    "from pathlib import Path\n",
    "from pypdf import PdfReader\n",
    "\n",
    "def summarize_all_in_folder(folder):\n",
    "    rootdir = Path(folder)\n",
    "    # Return a list of regular files only, not directories\n",
    "    for f in rootdir.glob('**/*') :\n",
    "        print(\"providing summary for: \" + str(f))\n",
    "        if f.is_file():\n",
    "            reader = PdfReader(str(f))\n",
    "            text = \"\"\n",
    "            for page in reader.pages:\n",
    "                text += page.extract_text() + \"\\n\"\n",
    "            messages=[{\"role\":\"system\", \"content\":\"You are a helpful assistant. Please summerize the following prompts into one. Extract and provide the title of the paper at the beginning of each of the summary\"}]\n",
    "            for i in range(round(len(text)/4096)):\n",
    "                messages.append({\"role\":\"user\",\"content\":text[i*4096:(i+1)*4096]});\n",
    "            response = client.chat.completions.create(\n",
    "              model=model,\n",
    "              messages = messages)\n",
    "        \n",
    "            print(response.choices[0].message.content)\n",
    "            print(\"\\n\\n\")"
   ]
  },
  {
   "cell_type": "code",
   "execution_count": 6,
   "id": "0b24d902-d053-4ec9-a276-ecffb9f34d20",
   "metadata": {},
   "outputs": [
    {
     "name": "stdout",
     "output_type": "stream",
     "text": [
      "providing summary for: math/2405.12365v1.pdf\n",
      "**Title: FOREIGN FUNCTIONS PACKAGE FOR MACAULAY2**\n",
      "\n",
      "**Summary**: Douglas A. Torrance introduces the ForeignFunctions package for Macaulay2, leveraging the library libffi to enable calling functions from external libraries at runtime, avoiding the need for compile-time linking. This package simplifies interactions with external libraries, such as FFTW for computing fast Fourier transforms, broadening the potential for mathematical computations within Macaulay2 without the overhead associated with traditional methods. The paper details the package's architecture, including its handling of shared libraries, foreign types and objects, and the ForeignFunction class for converting and processing data. An implementation detail section provides insight into the technical aspects of integrating libffi with Macaulay2, and examples illustrate practical applications, including an efficient method for polynomial multiplication using fast Fourier transforms—an accomplishment showcasing the package's capacity to enhance Macaulay2's functionality with external computational libraries.\n",
      "\n",
      "\n",
      "\n",
      "providing summary for: math/2405.12620v1.pdf\n",
      "**Title: On the Smoothability Problem with Rational Coefficients**\n",
      "\n",
      "**Summary:**\n",
      "This paper by Olivier Benoist and Claire Voisin explores the problem of smoothing algebraic cycles with rational coefficients on smooth projective complex varieties up to homological equivalence. It specifically examines how solutions to this problem conflict with the Hartshorne conjecture regarding complete intersections in projective space. The authors show that if the Hartshorne conjecture holds for codimension 2, then the possibility of smoothing algebraic cycles in codimension 2 on certain Grassmannians fails. They introduce a crucial link between the question of smoothing with rational coefficients and the decomposition of certain vector bundles, extending discussions to encompass symplectic counterparts and unstable vector bundles. Significant results include a theorem demonstrating the generation of the rational cohomology space of a compact symplectic manifold by classes of symplectic submanifolds, alongside a thorough analysis of the implications these findings have on existing conjectures and questions in algebraic geometry, specifically touching upon the topics of vector bundles and algebraic cycles within complex projective and symplectic geometry contexts.\n",
      "\n",
      "\n",
      "\n",
      "providing summary for: math/2405.12587v1.pdf\n",
      "R. P. Thomas. A holomorphic Casson invariant for Calabi–Yau 3-folds, and bundles on K3\n",
      "fibrations. J Diﬀerential Geom , 54(2):367–438, 2000.\n",
      "[Tho00] R. P. Thomas. A holomorphic Casson invariant for Calabi–Yau 3-folds, and bundles on K3\n",
      "fibrations. J. Differential Geom. , 54(2):367–438, 2000.\n",
      "[TT20] Yuuji Tanaka and Richard P. Thomas. Vafa-Witten invariants for projective surfaces I:\n",
      "stable case. J. Algebraic Geom. , 29(4):603–668, 2020.\n",
      "[Tot00] Burt Totaro. Chern numbers for singular varieties and elliptic homology. Ann. of Math. (2) ,\n",
      "151(2):757–791, 2000.\n",
      "[Wit88] Edward Witten. The index of the Dirac operator in loop space. In Elliptic curves and\n",
      "modular forms in algebraic topology (Princeton, NJ, 1986) , volume 1326 of Lecture Notes\n",
      "in Math. , pages 161–181. Springer, Berlin, 1988.\n",
      "[Yos01] Kota Yoshioka. Moduli spaces of stable sheaves on abelian surfaces. Math. Ann. , 321(4):817–\n",
      "884, 2001.\n",
      "\n",
      "\n",
      "\n",
      "providing summary for: math/2405.12334v1.pdf\n",
      "Title: On the Strong DR/DZ Equivalence Conjecture\n",
      "\n",
      "This paper by Xavier Blot, Danilo Lewański, and Sergei Shadrin establishes the Miura equivalence between two integral systems associated with a semi-simple cohomological field theory: the double ramification hierarchy of Buryak and the Dubrovin-Zhang hierarchy, confirming the strong DR/DZ equivalence conjecture proposed by Buryak and further refined by Buryak, Dubrovin, Guérè, and Rossi. Through a combinatorial approach involving stable rooted trees and tautological classes on the moduli space of curves, the authors demonstrate the conjectural tautological A=B relations in the Gorenstein quotient, leading to the proof of the conjecture for not only semi-simple CohFTs but also partial CohFTs and F-CohFTs under the assumption their classes are tautological. This significant result opens new avenues in understanding the interplay between cohomological field theories and integrable systems, particularly emphasizing the structure and algebraic properties of such theories within enumerative problems across different contexts.\n",
      "\n",
      "\n",
      "\n",
      "providing summary for: math/2405.12682v1.pdf\n",
      "### MEDIAL AXIS DETECTS NON-LIPSCHITZ NORMALLY EMBEDDED POINTS\n",
      "**Adam Białostocki**\n",
      "\n",
      "This paper presents a study on the relationship between the medial axis of a closed set \\(X \\subset \\mathbb{R}^n\\) and points where \\(X\\) is not Lipschitz Normally Embedded (LNE). The core argument is that every non-LNE point of \\(X\\) is approached by the medial axis of \\(X\\), a concept that deepens our understanding of the geometry of closed sets and their embedding properties. Through a series of definitions and propositions, the document meticulously defines LNE, explains the significance of the medial axis in analyzing the structure of closed sets, and asserts that the medial axis detects non-LNE points effectively.\n",
      "\n",
      "The paper thoroughly explores the inner metric and normal Lipschitz embeddings, providing a mathematical framework that juxtaposes these concepts with the medial axis to argue their intrinsic relationship. A major result reveals that if a closed set \\(X\\subset \\mathbb{R}^n\\) fails to be Lipschitz Normally Embedded at a point, then this point is necessarily either on the medial axis \\(MX\\) or in its close proximity. This is proven by showing that the closest-point function \\(m(x)\\), when restricted to \\(\\mathbb{R}^n \\setminus MX\\), adheres to local Lipschitz continuity, thereby establishing a connection between the geometrical structure of \\(X\\) and the behavior of \\(m(x)\\) across its domain.\n",
      "\n",
      "Furthermore, an example involving a particular set \\(X\\) illustrates how non-LNE points attract the medial axis, while also demonstrating the conditions under which the gradient of the distance function remains locally Lipschitz. The paper concludes with a theorem solidifying the claim that for every closed set \\(X\\) with a properly defined inner metric, a point \\(p \\in X\\) indicates either a non-LNE quality or a direct relationship to the medial axis.\n",
      "\n",
      "Despite the rigorous proof provided, the document acknowledges limitations in fully equating the absence of a point from \\(MX\\) with \\(X\\) being LNE at that point, highlighting a nuanced understanding of geometrical embeddings. This discourse contributes significantly to the field of mathematical analysis by offering a detailed examination of how geometric properties interplay with embedding characteristics in closed sets.\n",
      "\n",
      "\n",
      "\n"
     ]
    }
   ],
   "source": [
    "summarize_all_in_folder('math/')"
   ]
  },
  {
   "cell_type": "code",
   "execution_count": 27,
   "id": "807289aa-c610-48f8-9fa8-f9d34c471e1c",
   "metadata": {},
   "outputs": [
    {
     "name": "stdout",
     "output_type": "stream",
     "text": [
      "providing summary for: physics/2405.14551v1.pdf\n",
      " for the Navier-Stokes equa-\n",
      "tion,” (2024), arXiv:2402.02544 [quant-ph].\n",
      "[266] Z. Zhao, P. Rebentrost, and T. Fitzsimons, \"Quantum\n",
      "algorithms for fixed qubit architectures,\" Proceedings of\n",
      "the National Academy of Sciences 118(2021), doi:10.1073/pnas.2026805118.\n",
      "[267] W. Itani, G. Czanner, and S. Succi, \"Quantum lattice\n",
      "Boltzmann is a quantum walk,\" Entropy 23, 118 (2021),\n",
      "doi:10.3390/e23010118.\n",
      "\n",
      "\n",
      "\n",
      "providing summary for: physics/2405.15226v1.pdf\n",
      "This summary integrates content from several sections detailing a comprehensive study on the procedural construction of atomistic polyurethane block copolymer models for high throughput simulations. \n",
      "\n",
      "**Procedural Construction of Atomistic Polyurethane Block Copolymer Models for High Throughput Simulations**  \n",
      "Dominic Robe, Adrian Menzel, Andrew W Phillips, and Elnaz Hajizadeh present a method for automatically generating fully atomistic models of linear multi-block polyurethane copolymer models tailored for LAMMPS simulations. Their routine takes parameters defining block and chain lengths, along with chemical formulae of monomers, to construct atomistic models. Utilizing RadonPy for assembling monomers into polymers, they ensure accurate atomic charges across the chain. Their models compare well against experimental wide-angle X-ray scattering data, demonstrating the ability to capture the amorphous halo and finer structural details. The study explores the structures' response to parameters such as temperature, soft block length, and block connectivity, showing the robustness of their method for material design in a high throughput setting. Polyurethane block copolymers' (PUs) design space is explored with a focus on the chemical components that influence hydrogen bonding and material properties. The procedure also calculates static structure factors for various chemistries in comparison to experimental data, offering insights into microstructures and enabling systematic investigations into composition parameters.\n",
      "\n",
      "\n",
      "\n",
      "providing summary for: physics/2405.15445v1.pdf\n",
      "**Title: Cracking of Submerged Beds**\n",
      "\n",
      "The study by Bhadra et al. investigates crater formation and gas release due to projectile impacts on underwater granular beds formed of hydrophobic particles. This phenomenon is relevant across various natural, industrial, and geophysical contexts. Unlike dry beds, submerged beds develop a granular \"skin\" from the air-water interface, which, upon projectile impact, cracks to release trapped gas. The study explores how the morphology of craters changes with impact energy, presenting different scaling laws from dry beds due to the hydrodynamic interactions at the hydrophobic surface. Experimental findings show that the volume of gas released is influenced by factors including projectile velocity, bed depth, and water column depth. The research underscores the complexities of interfacial dynamics in granular media and offers new scaling laws for crater formation in submerged conditions, contributing to our understanding of processes like methane release from ocean beds or impacts into granular targets in aqueous environments.\n",
      "\n",
      "\n",
      "\n",
      "providing summary for: physics/2405.15068v1.pdf\n",
      "**Title: Rapid Sensing of Heat Stress using Machine Learning of Micrographs of Red Blood Cells Dispersed in Liquid Crystals**\n",
      "\n",
      "This paper showcases a novel method employing machine learning (ML) to rapidly detect heat stress in organisms by analyzing the mechanical properties of red blood cells (RBCs) using micrographs of RBCs dispersed in liquid crystals (LCs). Heat stress, detrimental to poultry wellbeing and productivity, prompts cells to overexpress heat shock proteins (HSP70), affecting their mechanical properties. The research utilized convolutional neural networks (CNNs) trained on micrographs of chicken RBCs under normal and heat stress conditions, achieving up to 99% accuracy in identifying heat-stressed cells. It further explored the efficiency of glutaraldehyde in crosslinking chicken and human RBCs to simulate diseased cells, aiding the planning and evaluation of ML models. This technique proves potent not only in identifying heat stress in poultry but potentially in rapid disease detection within various organisms by observing subtle changes in cell mechanical properties signaled through LC response patterns.\n",
      "\n",
      "\n",
      "\n",
      "providing summary for: physics/2405.15720v1.pdf\n",
      "**Title**: Study of triaxial loading of segregated granular assemblies through experiments and DEM simulations\n",
      "\n",
      "**Summary**:\n",
      "This paper, authored by Venakata Rama Manoj Polaa and Ratna Kumar Annabattula from the Indian Institute of Technology Madras, explores the triaxial loading of segregated granular assemblies by combining experimental approaches with Discrete Element Method (DEM) simulations. The core novelty lies in applying a position-dependent body force-based confinement for simulating triaxial tests in DEM. This method was validated against experimental load responses from triaxial tests on mono-disperse and segregated assemblies of glass spheres, showcasing its effectiveness. The research delves into the particle displacement and strain localisation during triaxial loading, revealing that segregated assemblies exhibit unique patterns of strain localisation, where smaller particles tend to undergo more shear strain compared to larger ones. This insight could have significant implications for understanding the mechanical behavior of granular materials under load. The study further introduces a mesh construction algorithm ensuring accuracy in the confinement applied during simulations. Experimental observations, including the bulging of smaller particles in segregated samples under load, align with the simulation results, supporting the validity of the simulation approach. The implications of the findings are discussed concerning the accurate representation of confinement in DEM simulations and the nuanced understanding of strain localisation in segregated granular assemblies.\n",
      "\n",
      "\n",
      "\n"
     ]
    }
   ],
   "source": [
    "summarize_all_in_folder('physics/')"
   ]
  },
  {
   "cell_type": "code",
   "execution_count": 7,
   "id": "f0844cba-de6c-4910-8bd4-4fa12ab78856",
   "metadata": {},
   "outputs": [
    {
     "name": "stdout",
     "output_type": "stream",
     "text": [
      "providing summary for: ai/2405.15568v1.pdf\n",
      "escription:\n",
      "−A soccer field sized environment with dimensions 20 m x 10 m.\n",
      "−A soccer ball is placed at the center of the field.\n",
      "−Two goals are situated at the opposite ends of the field.\n",
      "The robot is initialized at five meters from the ball, facing towards the\n",
      "opposite goal.\n",
      "Success:\n",
      "The task is successfully completed when the robot kicks the ball into the\n",
      "opposite goal.\n",
      "Rewards:\n",
      "To guide the robot to complete the task:\n",
      "−The robot receives a survival reward at each time step.\n",
      "−The robot is rewarded for making contact with the ball, incentivizing it\n",
      "to approach the ball.\n",
      "−The robot is rewarded for the ball's velocity towards the goal, encouraging\n",
      "accurate and strong kicks.\n",
      "−A significant reward is given once the ball crosses into the goal area,\n",
      "indicating task completion.\n",
      "Termination:\n",
      "The episode terminates if the ball leaves the field boundaries or the goal\n",
      "is scored.\n",
      "\n",
      "\n",
      "\n",
      "providing summary for: ai/2405.15616v1.pdf\n",
      "Given the extensive content you've provided, here's a summary focusing on extracting the paper titles from each prompt segment and integrating into a cohesive summary. The text does not explicitly state separate paper titles; therefore, a title based on the central theme of the discussed content will be inferred and provided as if it were from a singular paper. \n",
      "\n",
      "---\n",
      "\n",
      "**Title: \"Neuromorphic Dreaming: A Pathway to Efficient Learning in Artificial Agents\"**\n",
      "\n",
      "**Abstract:**\n",
      "This comprehensive exploration delves into the challenges of energy efficiency in artificial intelligence, proposing a novel implementation of model-based reinforcement learning (MBRL) using spiking neural networks (SNNs) on neuromorphic hardware. Inspired by the efficiency of biological systems, this study showcases an innovative hardware MBRL system capable of real-time operation and significant improvements in sample-efficiency. At its core, the approach alternates between an \"awake\" phase, where the agent interacts with real environments, and a \"dreaming\" phase, employing a learned world model for simulated experiences. This methodology not only advances the learning capabilities of artificial agents significantly over traditional methods but also underscores the energy-efficient potential of neuromorphic computing.\n",
      "\n",
      "**Methodology and Implementation:**\n",
      "The methodology applies a model-based reinforcement learning technique using two interconnected networks: an agent network, responsible for decision-making, and a world model network, simulating environment dynamics. Implemented on the DYNAP-SE neuromorphic processor, this system exploits the processor's energy efficiency and demonstrates state-of-the-art performance in learning the Atari game Pong. The study particularly emphasizes the unique \"awake-dreaming\" learning regime, a biologically inspired approach that allows agents to efficiently refine policies through simulated experiences generated by the world model.\n",
      "\n",
      "**Experiments and Results:**\n",
      "Empirical testing on the Atari Pong game environment has illustrated the remarkable sample-efficiency and energy efficiency of the proposed neuromorphic MBRL system. Leveraging the awake-dreaming paradigm, the agent significantly reduces the need for real environment experiences compared to traditional methods. This is complemented by a detailed examination of the underlying neuromorphic hardware performance, revealing the system's adeptness at real-time interaction and learning, suggesting a wide applicability for real-world scenarios.\n",
      "\n",
      "**Discussion and Conclusion:**\n",
      "The study represents a pioneering step toward energy-efficient, robust artificial intelligence, merging the fields of neuromorphic computing and reinforcement learning. Despite facing limitations such as training constraints and hardware variability, this research opens up new avenues for future exploration, including the potential for more complex tasks and environments, and the integration of next-generation neuromorphic chips. Ultimately, \"Neuromorphic Dreaming\" not only demonstrates a proof of concept for combining MBRL with SNNs on neuromorphic hardware but also motivates a broader adoption and development in the field, promising advancements in intelligent systems capable of real-world impact.\n",
      "\n",
      "---\n",
      "\n",
      "This summary condenses the key aspects of the extensive information provided into a singular paper framework, focusing on the innovative aspects of neuromorphic dreaming and its implications for future AI systems.\n",
      "\n",
      "\n",
      "\n",
      "providing summary for: ai/2405.15569v1.pdf\n",
      "**Title: Randomized Heuristic Repair for Large-Scale Multidimensional Knapsack Problem**\n",
      "\n",
      "This paper, authored by Jean P. Martins from Ericsson Research in Brazil, proposes a novel approach to solving large-scale instances of the Multidimensional Knapsack Problem (MKP), which is known to be NP-hard and entails selecting a subset of items that maximizes total profit without breaching capacity constraints. Recognizing the limitations of the deterministic nature of the Chu & Beasley heuristic repair in maintaining solution diversity over long periods, the study introduces a randomized heuristic repair strategy aimed at increasing the solution variability without compromising quality. This approach, based on the concept of \"efficiency groups,\" is designed to allow for a controlled exploration of the solution space by adjusting the order of items with similar efficiencies, potentially leading to better solutions. The methodology involves applying two simple randomization operations - random group swap and shuffle - within these efficiency groups, under certain conditions, to modify the ordering of items during the heuristic repair process employed by the Chu & Beasley Genetic Algorithm (CBGA). The efficacy of this strategy is evaluated using large-scale MKP instances from the literature, and the findings suggest that the randomization of the efficiency ordering contributes to an improved search performance, demonstrated by reduced gaps to the best known solutions and, in many cases, shorter running times compared to the original CBGA. The study concludes that while the randomized heuristic repair variants generally outperform the original algorithm, the optimal degree of randomization and the selection of operators may depend on specific instance characteristics. Future work will explore refining the approach to attain a more robust performance across different instances.\n",
      "\n",
      "\n",
      "\n",
      "providing summary for: ai/2405.15485v1.pdf\n",
      ".218 0.012 0.392 0.016 0.123 0.177\n",
      "0.309 0.411 0.420 0.421 0.450 0.308 0.008 -0.207\n",
      "0.460 0.375 0.599 0.283 -0.210 0.512 0.492 0.359Model Mistral 7b: Prob Diff with N=100\n",
      "\n",
      "\n",
      "\n",
      "providing summary for: ai/2405.15766v1.pdf\n",
      "**Title: Enhancing Adverse Drug Event Detection with Multimodal Dataset: Corpus Creation and Model Development**\n",
      "\n",
      "**Summary:**\n",
      "In this study, researchers Pranab Sahoo, Ayush Kumar Singh, Sriparna Saha, Aman Chadha, and Samrat Mondal from the Indian Institute of Technology Patna, Stanford University, and Amazon GenAI have developed a novel approach to adverse drug event (ADE) detection by creating a multimodal adverse drug event (MMADE) dataset. The dataset integrates ADE-related textual information with visual aids to overcome the limitations of traditional text-only approaches, which often miss crucial visual cues and context. By leveraging the capabilities of Large Language Models (LLMs) and Vision Language Models (VLMs), the team introduces a framework for ADE detection that significantly enhances the accuracy and effectiveness of identifying potential medication risks. The study illustrates the potential of combining textual and visual data to improve patient safety, ADE awareness, and healthcare communication. The code and dataset are made publicly available, encouraging further research in this vital area of personalized healthcare.\n",
      "\n",
      "This paper emphasizes the critical role of visual information in enhancing ADE detection, noting traditional methods' limitations in comprehending and interpreting ADE-related data accurately. By proposing a multimodal dataset and leveraging advanced LLMs and VLMs for ADE detection, the research highlights the importance of integrating visual cues for improved healthcare outcomes. The study's findings suggest that multimodal approaches can significantly advance ADE detection, underscoring the potential benefits for patient safety and healthcare accessibility.\n",
      "\n",
      "\n",
      "\n"
     ]
    }
   ],
   "source": [
    "summarize_all_in_folder('ai/')"
   ]
  },
  {
   "cell_type": "code",
   "execution_count": 42,
   "id": "80dafe0e-25a5-4e7d-afd6-7937e5150198",
   "metadata": {},
   "outputs": [
    {
     "name": "stdout",
     "output_type": "stream",
     "text": [
      "Classify the following articles into one of the following: categories: [politics, weather, sport, business, entertainment] give me a list at the end\n"
     ]
    }
   ],
   "source": [
    "prompt = \"Classify the following articles into one of the following: categories: [politics, weather, sport, business, entertainment] give me a list at the end\"\n",
    "print(prompt)"
   ]
  },
  {
   "cell_type": "code",
   "execution_count": 35,
   "id": "0cdc6f18-8ec7-4e29-b30b-1eabf4f2eed1",
   "metadata": {},
   "outputs": [
    {
     "data": {
      "text/html": [
       "<div>\n",
       "<style scoped>\n",
       "    .dataframe tbody tr th:only-of-type {\n",
       "        vertical-align: middle;\n",
       "    }\n",
       "\n",
       "    .dataframe tbody tr th {\n",
       "        vertical-align: top;\n",
       "    }\n",
       "\n",
       "    .dataframe thead th {\n",
       "        text-align: right;\n",
       "    }\n",
       "</style>\n",
       "<table border=\"1\" class=\"dataframe\">\n",
       "  <thead>\n",
       "    <tr style=\"text-align: right;\">\n",
       "      <th></th>\n",
       "      <th>articles</th>\n",
       "      <th>highligths</th>\n",
       "    </tr>\n",
       "  </thead>\n",
       "  <tbody>\n",
       "    <tr>\n",
       "      <th>0</th>\n",
       "      <td>Atlantic to get 'extraordinary' hurricane seas...</td>\n",
       "      <td>The El Niño weather phase, which began in summ...</td>\n",
       "    </tr>\n",
       "    <tr>\n",
       "      <th>1</th>\n",
       "      <td>Climate change: 'Uncharted territory' fears af...</td>\n",
       "      <td>Climate change could move \"into uncharted terr...</td>\n",
       "    </tr>\n",
       "    <tr>\n",
       "      <th>2</th>\n",
       "      <td>What are El Niño and La Niña, and how do they ...</td>\n",
       "      <td>The North Atlantic could get as many as seven ...</td>\n",
       "    </tr>\n",
       "  </tbody>\n",
       "</table>\n",
       "</div>"
      ],
      "text/plain": [
       "                                            articles  \\\n",
       "0  Atlantic to get 'extraordinary' hurricane seas...   \n",
       "1  Climate change: 'Uncharted territory' fears af...   \n",
       "2  What are El Niño and La Niña, and how do they ...   \n",
       "\n",
       "                                          highligths  \n",
       "0  The El Niño weather phase, which began in summ...  \n",
       "1  Climate change could move \"into uncharted terr...  \n",
       "2  The North Atlantic could get as many as seven ...  "
      ]
     },
     "execution_count": 35,
     "metadata": {},
     "output_type": "execute_result"
    }
   ],
   "source": [
    "import pandas as pd\n",
    "\n",
    "bbc_daily_articles = ['''Atlantic to get \\'extraordinary\\' hurricane season The North Atlantic could get as many as seven major hurricanes of category three strength or over this year, which would be more than double the usual number, the US weather agency NOAA has warned.Normally you'd expect three major hurricanes in a season.As many as 13 Atlantic hurricanes of category one or above are forecast for the period, which runs from June to November.Record high sea surface temperatures are partly to blame, as is a likely shift in regional weather patterns.While there's no evidence climate change is producing more hurricanes, it is making the most powerful ones more likely, and bringing heavier rainfall.\"This hurricane season is looking to be an extraordinary one,\" NOAA administrator Rick Spinrad said in a news conference.The recent weakening of the El Niño weather pattern – and the likely switch to La Niña conditions later in the year – creates more favourable atmospheric conditions for these storms in the Atlantic.In contrast to the Atlantic, NOAA had already predicted a \"below-normal\" hurricane season in the central Pacific region, where a move to La Niña has the opposite effect.Is climate change making hurricanes worse?What is El Niño and how does it change the weather?Oceans suffer from record-breaking year of heatOn average, the Atlantic basin – which includes the Atlantic Ocean, Caribbean Sea and Gulf of Mexico - experiences 14 named tropical storms a year, of which seven are hurricanes and three are major hurricanes.Tropical storms become hurricanes when they reach peak sustained wind speeds of 74mph (119km/h). 'Major' hurricanes (category three and above) are those reaching at least 111mph (178km/h).In total NOAA expects between 17 and 25 named tropical storms, of which between eight and 13 could become hurricanes and between four and seven could become major ones.The highest number of major hurricanes in a single Atlantic season is seven, seen in both 2005 and 2020. NOAA’s forecast suggests that 2024 could come close to that.Graphic showing the increasing number of category three, four and five hurricanes in the North Atlantic.The exact causes of individual storms is complex, but two key factors are behind the forecast.Firstly, there is the likely switch from El Niño to La Niña within the coming months, which helps these storms to grow more easily.And secondly, sea surface temperatures are much warmer than usual in the main hurricane development region in the tropical Atlantic.That often means more powerful hurricanes, because warmer waters provide more energy for storms to grow as they track westwards.\"All the ingredients are in place\" for an intense hurricane season, said Ken Graham, director of the US National Weather Service.Map of sea surface temperatures in April compared with long-term average. The tropical Atlantic is much warmer than usual.To draw attention to the way that global warming is making the highest intensity storms more likely, a recent study explored the possibility of creating a new category six level.This \"would alert the public that the strongest tropical cyclones that we are now experiencing are unprecedented and the reason for that [is] the warming of the surface oceans because of climate change,\" explains study lead author Michael Wehner, senior scientist at Berkeley Earth.Hurricane categories only take into account wind speeds. But these storms pose other major hazards, such as rainfall and coastal flooding, which are generally worsening with climate change, NOAA warned.Warmer air can hold more moisture, increasing the intensity of rainfall.Meanwhile, storm surges - the short-term increases to sea level from hurricanes - are now happening on top of a higher base. That is because sea levels are now higher, principally due to melting glaciers and warmer seas.\"Sea-level rise increases the total flood depth, making today’s hurricanes more damaging than prior year’s storms,\" says Andrew Dessler, a professor of atmospheric science at Texas A&M University.Given the active forecast, researchers stress the need for the public to be aware of the hazards these storms can pose - in particular \"rapid intensification events\", where hurricane wind speeds increase very quickly, and so can be especially dangerous.\"We are already seeing overall increases to the fastest rates at which Atlantic hurricanes intensify - which means that we are likely already seeing an increased risk of hazards for our coastal communities,\" explains Andra Garner, an assistant professor at Rowan University in the US.\"It can still be difficult to forecast rapid intensification of storms, which in turn escalates the challenges that arise when trying to protect our coastal communities.\"Graphics by Erwan Rivault and Muskeen LiddarThe North Atlantic could get as many as seven major hurricanes of category three strength or over this year, which would be more than double the usual number, the US weather agency NOAA has warned.Normally you'd expect three major hurricanes in a season.As many as 13 Atlantic hurricanes of category one or above are forecast for the period, which runs from June to November.Record high sea surface temperatures are partly to blame, as is a likely shift in regional weather patterns.While there's no evidence climate change is producing more hurricanes, it is making the most powerful ones more likely, and bringing heavier rainfall.\"This hurricane season is looking to be an extraordinary one,\" NOAA administrator Rick Spinrad said in a news conference.The recent weakening of the El Niño weather pattern – and the likely switch to La Niña conditions later in the year – creates more favourable atmospheric conditions for these storms in the Atlantic.In contrast to the Atlantic, NOAA had already predicted a \"below-normal\" hurricane season in the central Pacific region, where a move to La Niña has the opposite effect.Is climate change making hurricanes worse?What is El Niño and how does it change the weather?Oceans suffer from record-breaking year of heatOn average, the Atlantic basin – which includes the Atlantic Ocean, Caribbean Sea and Gulf of Mexico - experiences 14 named tropical storms a year, of which seven are hurricanes and three are major hurricanes.Tropical storms become hurricanes when they reach peak sustained wind speeds of 74mph (119km/h). 'Major' hurricanes (category three and above) are those reaching at least 111mph (178km/h).In total NOAA expects between 17 and 25 named tropical storms, of which between eight and 13 could become hurricanes and between four and seven could become major ones.The highest number of major hurricanes in a single Atlantic season is seven, seen in both 2005 and 2020. NOAA’s forecast suggests that 2024 could come close to that.Graphic showing the increasing number of category three, four and five hurricanes in the North Atlantic.The exact causes of individual storms is complex, but two key factors are behind the forecast.Firstly, there is the likely switch from El Niño to La Niña within the coming months, which helps these storms to grow more easily.And secondly, sea surface temperatures are much warmer than usual in the main hurricane development region in the tropical Atlantic.That often means more powerful hurricanes, because warmer waters provide more energy for storms to grow as they track westwards.\"All the ingredients are in place\" for an intense hurricane season, said Ken Graham, director of the US National Weather Service.Map of sea surface temperatures in April compared with long-term average. The tropical Atlantic is much warmer than usual.To draw attention to the way that global warming is making the highest intensity storms more likely, a recent study explored the possibility of creating a new category six level.This \"would alert the public that the strongest tropical cyclones that we are now experiencing are unprecedented and the reason for that [is] the warming of the surface oceans because of climate change,\" explains study lead author Michael Wehner, senior scientist at Berkeley Earth.Hurricane categories only take into account wind speeds. But these storms pose other major hazards, such as rainfall and coastal flooding, which are generally worsening with climate change, NOAA warned.Warmer air can hold more moisture, increasing the intensity of rainfall.Meanwhile, storm surges - the short-term increases to sea level from hurricanes - are now happening on top of a higher base. That is because sea levels are now higher, principally due to melting glaciers and warmer seas.\"Sea-level rise increases the total flood depth, making today’s hurricanes more damaging than prior year’s storms,\" says Andrew Dessler, a professor of atmospheric science at Texas A&M University.Given the active forecast, researchers stress the need for the public to be aware of the hazards these storms can pose - in particular \"rapid intensification events\", where hurricane wind speeds increase very quickly, and so can be especially dangerous.\"We are already seeing overall increases to the fastest rates at which Atlantic hurricanes intensify - which means that we are likely already seeing an increased risk of hazards for our coastal communities,\" explains Andra Garner, an assistant professor at Rowan University in the US.\"It can still be difficult to forecast rapid intensification of storms, which in turn escalates the challenges that arise when trying to protect our coastal communities.\"Graphics by Erwan Rivault and Muskeen Liddar''',\n",
    "                     '''Climate change: 'Uncharted territory' fears after record hot March Climate change could move \"into uncharted territory\" if temperatures don't fall by the end of the year, a leading scientist has told the BBC.The warning came as data showed last month was the world's warmest March on record, extending the run of monthly temperature records to 10 in a row.It's fuelled concerns among some that the world could be tipping into a new phase of even faster climate change.A weather system called El Niño is behind some of the recent heat.Temperatures should temporarily come down after El Niño peters out in coming months, but some scientists are worried they might not.ADVERTISEMENT\"By the end of the summer, if we're still looking at record breaking temperatures in the North Atlantic or elsewhere, then we really have kind of moved into uncharted territory,\" Gavin Schmidt, the director of Nasa's Goddard Institute for Space Studies, told BBC News.A simple guide to climate changeWhat are El Niño and La Niña, and how do they change the weather?March 2024 was 1.68C warmer than \"pre-industrial\" times - before humans started burning large amounts of fossil fuels - according to the EU's Copernicus Climate Change Service.Bar chart showing March temperatures, 1940-2024. March 2024 was the hottest March on record at 1.68C above the pre-industrial average (1850-1900), and there has been an increasing trend over time.For now, longer term warming trends are still pretty much consistent with expectations, and most researchers don't yet believe that the climate has entered a new phase.ADVERTISEMENTBut scientists are struggling to explain exactly why the end of 2023 was so warm.The March record was expected. El Niño, which began last June and peaked in December, has been adding heat to the warmth put into the atmosphere by the burning of fossil fuels, the main driver of high temperatures.But temperatures began breaking records by a particularly large margin around last September, and back then, El Niño was still developing, so can't explain all of the extra warmth.'Harder to predict the future'Dr Schmidt is concerned about what this means for predictions going forward.\"Our predictions failed quite dramatically for the specifics of 2023, and if previous statistics don't work, then it becomes much harder to say what's going to happen in the future,\" he said.\"We're still trying to understand why the situation changed so dramatically in the middle of last year, and how long this situation will continue, whether it is a phase shift or whether it's a blip in long-term climate trends,\" agrees Dr Samantha Burgess from Copernicus.The current El Niño is now waning, and will likely end in the next couple of months.Four maps showing different stages of El Niño and La Niña. La Niña (October 2022) is marked by cool waters in the Pacific. El Niño conditions were emerging by May 2023 with warm waters in the East Pacific, and El Niño had strengthened by October 2023 as warm waters spread. In March 2024, waters had begun to cool as El Niño weakened.While scientists aren't sure exactly how conditions in the Pacific will evolve, current predictions suggest it could be replaced by a full La Niña cool phase later this year.That cooling of the sea surface would normally see a temporary drop in global air temperatures, but it remains to be seen exactly how this will evolve.\"We're definitely seeing a weakening of El Niño, but the question is, where will we end up?\" says Michelle L'Heureux, a scientist with the NOAA climate prediction centre.But scientists are certain about one thing: the way to stop the world warming is to rapidly cut emissions of planet-warming gases.\"We have this window in the coming years to try and mitigate the impacts of climate change, by cutting emissions,\" says Dr Angélique Melet from Mercator Ocean International.\"I do understand the challenges but it's also true that if we don't act, we are committing ourselves towards a future where 2023 will be the new normal.\"\"How fast will that happen? It depends on us.\"Graphics by Erwan Rivault and Mark Poynting''',\n",
    "                     '''What are El Niño and La Niña, and how do they change the weather? The El Niño weather phase, which began in summer 2023, has now come to an end, the Australian Bureau of Meteorology says.It helped to boost global temperatures to record levels in recent months, on top of the long-term warming caused by humans.What is El Niño?El Niño is part of the natural climate phenomenon called the El Niño Southern Oscillation (ENSO).It has two opposite states: El Niño and La Niña, both of which significantly alter global weather.El Niño can be identified by a number of different measurements, including:warmer-than-usual sea surface temperatures in the tropical eastern Pacificabove-normal atmospheric pressure at Darwin, Australia (western Pacific), and below-normal atmospheric pressure at Tahiti, French Polynesia (central Pacific)Four maps showing different stages of El Niño and La Niña. La Niña (October 2022) is marked by cool waters in the Pacific. El Niño conditions were emerging by May 2023 with warm waters in the East Pacific, and El Niño had strengthened by October 2023 as warm waters spread. In March 2024, waters had begun to cool as El Niño weakened. [April 2024]In \"neutral\" conditions, surface water in the Pacific Ocean is cooler in the east and warmer in the west.The \"trade winds\" tend to blow east-to-west, and heat from the Sun progressively warms the waters as they move in this direction.During El Niño events, these winds weaken or reverse, sending warm surface waters eastwards instead.Infographic showing how in El Niño conditions, warmer ocean surface water tends to be further east than usual, on an area of the Pacific ocean stretching from Australia and Papua New Guinea to the west coast of South and Central America.In La Niña periods, the normal east-to-west winds become stronger, pushing warmer waters further west.This causes cold water to rise up - or \"upwell\" - from the depths of the ocean, meaning sea surface temperatures are cooler than usual in the east Pacific.Infographic showing how in La Niña conditions, warmer ocean surface water tends to be further west than usual, on an area of the Pacific ocean stretching from Australia and Papua New Guinea to the west coast of South and Central America.The phenomenon was first observed by Peruvian fisherman in the 1600s, who noticed that warm waters seemed to peak near the Americas in December.They nicknamed it \"El Niño de Navidad\" - Christ Child in Spanish.How do El Niño and La Niña change the weather?Not every event is the same, and the consequences vary from region to region.However, scientists have observed some common effects:TemperaturesGlobal temperatures typically increase during an El Niño episode, and fall during La Niña.El Niño means warmer water spreads further, and stays closer to the surface. This releases more heat into the atmosphere, creating wetter and warmer air.But the regional effects are complicated, and some places may be both warmer and cooler than expected at different points in the year.The hottest year on record, 2023, was boosted by El Niño conditions, on top of long-term human-caused climate change, and that warmth continued into 2024.Typical effects of El Nino events on temperature patterns for each region. Key trends include warming in South America, southeast Asia and southern Africa. Cooling in parts of North America. [June 2023]Between 2020 and 2022, the world experienced an unusually long period of La Niña conditions, which helped keep a lid on global temperatures.How UK and Western European temperatures respond to El Niño is complicated and uncertain. It could mean colder than average winters, for example, but that depends how El Niño unfolds.El Niño ends with uncertainty over cooler futureA really simple guide to climate changeFour ways climate change is affecting weatherChanges to rainfallDuring El Niño events, the warmer water pushes the Pacific jet stream's strong air currents further to the south and the east.This brings wetter weather to southern USA and the Gulf of Mexico.Tropical regions like southeast Asia, Australia and central Africa typically experience drier conditions.Under La Niña, the effect is reversed.Typical effects of El Nino events on precipitation patterns for each region. Key trends are drying in many equatorial regions (northern South America, central Africa, southeast Asia and Australia). Southern USA generally becomes wetter than normal. [June 2023]Tropical stormsEl Niño also affects atmospheric circulation patterns, which means there are generally more tropical storms in the tropical Pacific, but fewer in the tropical Atlantic, including the southern US.During La Niña, the reverse is typically true.Carbon dioxide (CO2) levelsScientists have also observed that CO2 levels in the atmosphere increase during El Niño events, possibly as a result of warmer and drier conditions in tropical regions.If plants grow less quickly due to drought, they absorb less CO2, while more wildfires in places like South Asia mean more CO2 is released.Why do the El Niño and La Niña climate patterns matter?The extreme weather events worsened by El Niño and La Niña affect infrastructure, food and energy systems around the world.For example, when less cold water comes to the surface off the west coast of South America during El Niño events, fewer nutrients rise from the bottom of the ocean.That means there is less food available for marine species like squid and salmon, in turn reducing stocks for South American fishing communities.Getty Images A fisherman carries freshly caught tuna at La Poza beach in Manta, Ecuador's largest seaportGetty ImagesFishing stocks can be affected by the effects of El NiñoThe droughts and flooding caused by the extreme 2015-16 El Niño event affected the food security of more than 60 million people, according to the UN Food and Agricultural Organisation.A recent study suggested that El Niño events significantly reduce global economic growth, an effect which could intensify in the future.How often do El Niño and La Niña episodes happen?El Niño and La Niña episodes typically occur every two to seven years, and usually last nine to 12 months.They don't necessarily alternate: La Niña events are less common than El Niño episodes.Is climate change affecting El Niño/La Niña?In 2021, the UN's climate scientists, the IPCC, said the ENSO events which have occurred since 1950 are stronger than those observed between 1850 and 1950.But it also said that tree rings and other historical evidence show there have been variations in the frequency and strength of these episodes since the 1400s.The IPCC concluded there is no clear evidence that climate change has affected these events.Some climate models suggest that El Niño events will become more frequent and more intense as a result of global warming - potentially boosting temperatures further - but this is not certain.''']\n",
    "\n",
    "bbc_daily_articles_highlights = ['''The El Niño weather phase, which began in summer 2023, has now come to an end, the Australian Bureau of Meteorology says. It helped to boost global temperatures to record levels in recent months, on top of the long-term warming caused by humans..''',\n",
    "                                '''Climate change could move \"into uncharted territory\" if temperatures don't fall by the end of the year, a leading scientist has told the BBC. The warning came as data showed last month was the world's warmest March on record, extending the run of monthly temperature records to 10 in a row. It's fuelled concerns among some that the world could be tipping into a new phase of even faster climate change.''',\n",
    "                                '''The North Atlantic could get as many as seven major hurricanes of category three strength or over this year, which would be more than double the usual number, the US weather agency NOAA has warned. Normally you'd expect three major hurricanes in a season. As many as 13 Atlantic hurricanes of category one or above are forecast for the period, which runs from June to November.''' \n",
    "                                ]\n",
    "bbc_df = pd.DataFrame({\"articles\":bbc_daily_articles, \"highligths\":bbc_daily_articles_highlights})\n",
    "\n",
    "bbc_df.head()   "
   ]
  },
  {
   "cell_type": "code",
   "execution_count": 43,
   "id": "a05f460c-3baf-4510-9a73-257d5fd3ea34",
   "metadata": {},
   "outputs": [
    {
     "data": {
      "text/plain": [
       "'- weather\\n- weather\\n- weather'"
      ]
     },
     "execution_count": 43,
     "metadata": {},
     "output_type": "execute_result"
    }
   ],
   "source": [
    "#Setting a few additional, typical parameters during API Call\n",
    "\n",
    "response = client.chat.completions.create(\n",
    "       model=model,\n",
    "  messages = [{\"role\":\"system\", \"content\":prompt},\n",
    "               {\"role\":\"user\",\"content\":bbc_daily_articles[0]},\n",
    "             {\"role\":\"user\",\"content\":bbc_daily_articles[1]},\n",
    "             {\"role\":\"user\",\"content\":bbc_daily_articles[2]},\n",
    "             ])\n",
    "\n",
    "response.choices[0].message.content"
   ]
  },
  {
   "cell_type": "code",
   "execution_count": 46,
   "id": "a0afd1b6-fbad-4da9-a24e-05bdf32f9f92",
   "metadata": {},
   "outputs": [
    {
     "data": {
      "text/plain": [
       "\"I don't know.\""
      ]
     },
     "execution_count": 46,
     "metadata": {},
     "output_type": "execute_result"
    }
   ],
   "source": [
    "\n",
    "#Setting a few additional, typical parameters during API Call\n",
    "reader = PdfReader(\"ai/2405.15485v1.pdf\")\n",
    "text = \"\"\n",
    "for page in reader.pages:\n",
    "    text += page.extract_text() + \"\\n\"\n",
    "messages = [{\"role\":\"system\", \"content\":\"you are a helpbot for an ai paper. please process the following prompts which are sections of the paper. once you've read the paper, please only respond with what you know from the paper. answer any unrelated questions with i dont know.\"}]\n",
    "for i in range(round(len(text)/4096)):\n",
    "                messages.append({\"role\":\"user\",\"content\":text[i*4096:(i+1)*4096]});  \n",
    "messages.append({\"role\":\"user\",\"content\":\"what is the color of the sky?\"});\n",
    "response = client.chat.completions.create(\n",
    "       model=model,\n",
    "  messages = messages)\n",
    "\n",
    "response.choices[0].message.content"
   ]
  },
  {
   "cell_type": "code",
   "execution_count": null,
   "id": "c574a8cc-c3ea-45fb-b911-a04267733ced",
   "metadata": {},
   "outputs": [],
   "source": []
  }
 ],
 "metadata": {
  "kernelspec": {
   "display_name": "Python 3 (ipykernel)",
   "language": "python",
   "name": "python3"
  },
  "language_info": {
   "codemirror_mode": {
    "name": "ipython",
    "version": 3
   },
   "file_extension": ".py",
   "mimetype": "text/x-python",
   "name": "python",
   "nbconvert_exporter": "python",
   "pygments_lexer": "ipython3",
   "version": "3.11.7"
  }
 },
 "nbformat": 4,
 "nbformat_minor": 5
}
